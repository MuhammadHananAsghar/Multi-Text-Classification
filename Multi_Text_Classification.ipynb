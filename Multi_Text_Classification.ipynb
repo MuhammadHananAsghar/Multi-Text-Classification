{
  "nbformat": 4,
  "nbformat_minor": 0,
  "metadata": {
    "colab": {
      "name": "Multi-Text Classification.ipynb",
      "provenance": [],
      "collapsed_sections": []
    },
    "kernelspec": {
      "name": "python3",
      "display_name": "Python 3"
    },
    "language_info": {
      "name": "python"
    },
    "accelerator": "GPU"
  },
  "cells": [
    {
      "cell_type": "code",
      "metadata": {
        "id": "uXLAqrJxjteE"
      },
      "source": [
        "import tensorflow as tf\n",
        "import numpy as np\n",
        "import matplotlib.pyplot as plt\n",
        "from tensorflow.keras.preprocessing.sequence import pad_sequences\n",
        "from tensorflow.keras.preprocessing.text import Tokenizer\n",
        "from tensorflow.keras.utils import to_categorical\n",
        "import pickle"
      ],
      "execution_count": 1,
      "outputs": []
    },
    {
      "cell_type": "code",
      "metadata": {
        "id": "3h_YfD6ZkQNE"
      },
      "source": [
        "with open('datastore.pkl', 'rb') as file:\n",
        "  datastore = pickle.load(file)"
      ],
      "execution_count": 2,
      "outputs": []
    },
    {
      "cell_type": "code",
      "metadata": {
        "id": "5XvIQWqYkfGe"
      },
      "source": [
        "headlines = []\n",
        "labels = []\n",
        "\n",
        "for item in datastore:\n",
        "  headlines.append(item['headline'])\n",
        "  labels.append(item['keyword'])"
      ],
      "execution_count": 3,
      "outputs": []
    },
    {
      "cell_type": "code",
      "metadata": {
        "id": "McBgJfHYm1qf"
      },
      "source": [
        "vocab_size = 31714\n",
        "max_length = 200\n",
        "trunc_type = \"post\"\n",
        "padding = \"post\"\n",
        "embedding_dim = 100\n",
        "training_size = 45000\n",
        "oov_tok = \"<OOV>\""
      ],
      "execution_count": 7,
      "outputs": []
    },
    {
      "cell_type": "code",
      "metadata": {
        "id": "qlmhxEyAn0Z6"
      },
      "source": [
        "tokenizer = Tokenizer(num_words=vocab_size, oov_token=oov_tok)\n",
        "tokenizer.fit_on_texts(headlines)\n",
        "\n",
        "headlines_sequences = tokenizer.texts_to_sequences(headlines)\n",
        "padded_headlines = pad_sequences(headlines_sequences, maxlen=max_length, truncating=trunc_type, padding=padding)"
      ],
      "execution_count": 8,
      "outputs": []
    },
    {
      "cell_type": "code",
      "metadata": {
        "id": "qvhNaRjQyTVC"
      },
      "source": [
        "labels = to_categorical(labels, num_classes=3)"
      ],
      "execution_count": 9,
      "outputs": []
    },
    {
      "cell_type": "code",
      "metadata": {
        "id": "p-xnlJakyHH-"
      },
      "source": [
        "from sklearn.model_selection import train_test_split\n",
        "\n",
        "padded_training, padded_testing, training_labels, testing_labels = train_test_split(padded_headlines, labels, test_size=0.20)\n"
      ],
      "execution_count": 10,
      "outputs": []
    },
    {
      "cell_type": "code",
      "metadata": {
        "colab": {
          "base_uri": "https://localhost:8080/"
        },
        "id": "eZp5_Jmq1PSf",
        "outputId": "d6215bda-1fef-4f0b-de46-26e0db4569a8"
      },
      "source": [
        "training_labels[0]"
      ],
      "execution_count": null,
      "outputs": [
        {
          "output_type": "execute_result",
          "data": {
            "text/plain": [
              "array([0., 0., 1.], dtype=float32)"
            ]
          },
          "metadata": {
            "tags": []
          },
          "execution_count": 57
        }
      ]
    },
    {
      "cell_type": "code",
      "metadata": {
        "id": "3tbfuSBMpR5R"
      },
      "source": [
        "word_index = tokenizer.word_index"
      ],
      "execution_count": 11,
      "outputs": []
    },
    {
      "cell_type": "code",
      "metadata": {
        "id": "6A-gwjI3pefA"
      },
      "source": [
        "model = tf.keras.models.Sequential([\n",
        "  tf.keras.layers.Embedding(vocab_size, embedding_dim, input_length=max_length),\n",
        "  tf.keras.layers.Flatten(),\n",
        "  tf.keras.layers.Dense(100, activation=tf.nn.relu),\n",
        "  tf.keras.layers.Dense(3, activation=tf.nn.sigmoid)\n",
        "])"
      ],
      "execution_count": 14,
      "outputs": []
    },
    {
      "cell_type": "code",
      "metadata": {
        "colab": {
          "base_uri": "https://localhost:8080/"
        },
        "id": "LZQEukoBzVlJ",
        "outputId": "e880227a-e086-4e43-9c07-65cbf1cbfe80"
      },
      "source": [
        "model.summary()"
      ],
      "execution_count": 15,
      "outputs": [
        {
          "output_type": "stream",
          "text": [
            "Model: \"sequential_1\"\n",
            "_________________________________________________________________\n",
            "Layer (type)                 Output Shape              Param #   \n",
            "=================================================================\n",
            "embedding_1 (Embedding)      (None, 200, 100)          3171400   \n",
            "_________________________________________________________________\n",
            "flatten_1 (Flatten)          (None, 20000)             0         \n",
            "_________________________________________________________________\n",
            "dense_2 (Dense)              (None, 100)               2000100   \n",
            "_________________________________________________________________\n",
            "dense_3 (Dense)              (None, 3)                 303       \n",
            "=================================================================\n",
            "Total params: 5,171,803\n",
            "Trainable params: 5,171,803\n",
            "Non-trainable params: 0\n",
            "_________________________________________________________________\n"
          ],
          "name": "stdout"
        }
      ]
    },
    {
      "cell_type": "code",
      "metadata": {
        "id": "HKqrDtRwwEJb"
      },
      "source": [
        "model.compile(loss=\"binary_crossentropy\", optimizer=\"adam\", metrics=[\"accuracy\"])\n"
      ],
      "execution_count": 16,
      "outputs": []
    },
    {
      "cell_type": "code",
      "metadata": {
        "colab": {
          "base_uri": "https://localhost:8080/"
        },
        "id": "pUUJWoDczoUX",
        "outputId": "b4c35b78-a2d5-40ea-9482-a5a49a0405ce"
      },
      "source": [
        "num_epochs = 5\n",
        "history = model.fit(\n",
        "    padded_training,\n",
        "    training_labels,\n",
        "    epochs=num_epochs,\n",
        "    validation_data=(padded_testing, testing_labels),\n",
        "    batch_size=128\n",
        ")"
      ],
      "execution_count": 17,
      "outputs": [
        {
          "output_type": "stream",
          "text": [
            "Epoch 1/5\n",
            "375/375 [==============================] - 15s 35ms/step - loss: 0.2341 - accuracy: 0.8515 - val_loss: 0.1045 - val_accuracy: 0.9461\n",
            "Epoch 2/5\n",
            "375/375 [==============================] - 12s 33ms/step - loss: 0.0667 - accuracy: 0.9668 - val_loss: 0.0996 - val_accuracy: 0.9491\n",
            "Epoch 3/5\n",
            "375/375 [==============================] - 12s 32ms/step - loss: 0.0323 - accuracy: 0.9863 - val_loss: 0.1118 - val_accuracy: 0.9444\n",
            "Epoch 4/5\n",
            "375/375 [==============================] - 12s 33ms/step - loss: 0.0147 - accuracy: 0.9948 - val_loss: 0.1267 - val_accuracy: 0.9426\n",
            "Epoch 5/5\n",
            "375/375 [==============================] - 13s 34ms/step - loss: 0.0055 - accuracy: 0.9987 - val_loss: 0.1446 - val_accuracy: 0.9408\n"
          ],
          "name": "stdout"
        }
      ]
    },
    {
      "cell_type": "code",
      "metadata": {
        "id": "q5-LniPszyCH"
      },
      "source": [
        "def plot_graph(history, string):\n",
        "  plt.plot(history.history[string])\n",
        "  plt.plot(history.history['val_'+string])\n",
        "  plt.xlabel(\"Epochs\")\n",
        "  plt.ylabel(string.capitalize())\n",
        "  plt.legend([string, 'val_'+string])\n",
        "  plt.show()"
      ],
      "execution_count": 18,
      "outputs": []
    },
    {
      "cell_type": "code",
      "metadata": {
        "colab": {
          "base_uri": "https://localhost:8080/",
          "height": 279
        },
        "id": "QYQH0pMh0SCi",
        "outputId": "2b49801d-a28a-4ddd-9286-1a3f22b25b7a"
      },
      "source": [
        "plot_graph(history, \"accuracy\")"
      ],
      "execution_count": 19,
      "outputs": [
        {
          "output_type": "display_data",
          "data": {
            "image/png": "[encoded data removed]",
            "text/plain": [
              "<Figure size 432x288 with 1 Axes>"
            ]
          },
          "metadata": {
            "tags": [],
            "needs_background": "light"
          }
        }
      ]
    },
    {
      "cell_type": "code",
      "metadata": {
        "colab": {
          "base_uri": "https://localhost:8080/",
          "height": 279
        },
        "id": "-rHSZrAA0Tox",
        "outputId": "a2ac45aa-3119-4c47-8751-bd806c6d0b6e"
      },
      "source": [
        "plot_graph(history, \"loss\")"
      ],
      "execution_count": 20,
      "outputs": [
        {
          "output_type": "display_data",
          "data": {
            "image/png": "[encoded data removed]",
            "text/plain": [
              "<Figure size 432x288 with 1 Axes>"
            ]
          },
          "metadata": {
            "tags": [],
            "needs_background": "light"
          }
        }
      ]
    },
    {
      "cell_type": "code",
      "metadata": {
        "id": "_fdJgRZ01eP1"
      },
      "source": [
        "labels = [\n",
        "    \"business\",\n",
        "    \"gaming\",\n",
        "    \"tech\"\n",
        "]"
      ],
      "execution_count": null,
      "outputs": []
    },
    {
      "cell_type": "code",
      "metadata": {
        "id": "6zBhZ0o30alR"
      },
      "source": [
        "sentence = \"Google fined €500m by French competition authority\"\n",
        "pred_sequence = tokenizer.texts_to_sequences(sentence)\n",
        "pred_padded = pad_sequences(pred_sequence, maxlen=max_length, padding=padding, truncating=trunc_type)\n",
        "prediction = model.predict(pred_padded)\n",
        "print(prediction)"
      ],
      "execution_count": null,
      "outputs": []
    },
    {
      "cell_type": "code",
      "metadata": {
        "id": "0X8BP_vq0vI0"
      },
      "source": [
        "sentence = \"Stocks making the biggest moves premarket: PepsiCo, JPMorgan, Boeing and others\"\n",
        "pred_sequence = tokenizer.texts_to_sequences(sentence)\n",
        "pred_padded = pad_sequences(pred_sequence, maxlen=max_length, padding=padding, truncating=trunc_type)\n",
        "prediction = model.predict(pred_padded)\n",
        "print(prediction)"
      ],
      "execution_count": null,
      "outputs": []
    },
    {
      "cell_type": "code",
      "metadata": {
        "id": "DWZd2Yyt0v8y"
      },
      "source": [
        "sentence = \"Battlegrounds Mobile India: 10 things that can get you permanently banned or make you lose all pervious possessions\"\n",
        "pred_sequence = tokenizer.texts_to_sequences(sentence)\n",
        "pred_padded = pad_sequences(pred_sequence, maxlen=max_length, padding=padding, truncating=trunc_type)\n",
        "prediction = model.predict(pred_padded)\n",
        "print(prediction)"
      ],
      "execution_count": null,
      "outputs": []
    },
    {
      "cell_type": "code",
      "metadata": {
        "id": "VptOehIn2lOZ"
      },
      "source": [
        ""
      ],
      "execution_count": null,
      "outputs": []
    }
  ]
}